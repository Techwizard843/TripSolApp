{
 "cells": [
  {
   "cell_type": "code",
   "execution_count": null,
   "id": "21fe05a8-ac00-4d00-9a62-c95c805538a4",
   "metadata": {},
   "outputs": [],
   "source": [
    "import os\n",
    "from sklearn.feature_extraction.text import TfidfVectorizer\n",
    "from sklearn.metrics.pairwise import cosine_similarity\n",
    "\n",
    "class Recommender:\n",
    "    def __init__(user, searchdata='searches.txt'):\n",
    "        user.searchdata = searchdata\n",
    "        user.searches = self._load_searches()\n",
    "        user.vectorizer = TfidfVectorizer(stop_words='english')\n",
    "        user._update_vectors()\n",
    "\n",
    "    def _load_searches(user):\n",
    "        if not os.path.exists(user.searchdata):\n",
    "            return []\n",
    "        with open(user.history_file, 'r') as f:\n",
    "            return [line.strip() for line in f.readlines() if line.strip()]\n",
    "\n",
    "    def _save_search(user, query):\n",
    "        with open(user.searchdata, 'a') as f:\n",
    "            f.write(query + '\\n')\n",
    "\n",
    "    def _update_vectors(user):\n",
    "        if user.searches:\n",
    "            user.vectors = user.vectorizer.fit_transform(user.searches)\n",
    "        else:\n",
    "            user.vectors = None\n",
    "\n",
    "    def add(user, query):\n",
    "        user.searches.append(query)\n",
    "        user._save_search(query)\n",
    "        user._update_vectors()\n",
    "\n",
    "    def recommend(user, query=None, top_n=5):\n",
    "        if not user.vectors:\n",
    "            return []\n",
    "\n",
    "        vec = user.vectorizer.transform([query])\n",
    "        scores = cosine_similarity(vec, user.vectors).flatten()\n",
    "        indices = scores.argsort()[::-1]\n",
    "\n",
    "        return [user.searches[i] for i in indices if user.searches[i] != query][:top_n]\n"
   ]
  }
 ],
 "metadata": {
  "kernelspec": {
   "display_name": "Python [conda env:base] *",
   "language": "python",
   "name": "conda-base-py"
  },
  "language_info": {
   "codemirror_mode": {
    "name": "ipython",
    "version": 3
   },
   "file_extension": ".py",
   "mimetype": "text/x-python",
   "name": "python",
   "nbconvert_exporter": "python",
   "pygments_lexer": "ipython3",
   "version": "3.12.7"
  }
 },
 "nbformat": 4,
 "nbformat_minor": 5
}
