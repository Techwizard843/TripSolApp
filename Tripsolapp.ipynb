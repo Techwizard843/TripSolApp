{
 "cells": [
  {
   "cell_type": "code",
   "execution_count": null,
   "id": "0eabf2c1-e84b-41e7-8ba8-50826e39969c",
   "metadata": {},
   "outputs": [],
   "source": [
    "import pandas as pd\n",
    "!pip install hf_xet\n",
    "!pip install txtai\n",
    "!pip install rapidfuzz\n",
    "import txtai\n",
    "import numpy as np\n",
    "%matplotlib inline\n",
    "df2 = pd.read_csv(r\"C:\\Users\\study\\OneDrive\\Documents\\indiadata.csv\")\n",
    "df = pd.read_csv(r\"C:\\Users\\study\\OneDrive\\Documents\\Destination,Type.csv\")"
   ]
  },
  {
   "cell_type": "code",
   "execution_count": 1,
   "id": "05755988-a8ae-4afe-be04-8dbf8ec3baad",
   "metadata": {},
   "outputs": [
    {
     "ename": "NameError",
     "evalue": "name 'df' is not defined",
     "output_type": "error",
     "traceback": [
      "\u001b[1;31m---------------------------------------------------------------------------\u001b[0m",
      "\u001b[1;31mNameError\u001b[0m                                 Traceback (most recent call last)",
      "Cell \u001b[1;32mIn[1], line 3\u001b[0m\n\u001b[0;32m      1\u001b[0m \u001b[38;5;28;01mfrom\u001b[39;00m \u001b[38;5;21;01mtxtai\u001b[39;00m\u001b[38;5;21;01m.\u001b[39;00m\u001b[38;5;21;01membeddings\u001b[39;00m \u001b[38;5;28;01mimport\u001b[39;00m Embeddings\n\u001b[1;32m----> 3\u001b[0m types \u001b[38;5;241m=\u001b[39m df[\u001b[38;5;124m\"\u001b[39m\u001b[38;5;124mtype\u001b[39m\u001b[38;5;124m\"\u001b[39m]\u001b[38;5;241m.\u001b[39mdropna()\u001b[38;5;241m.\u001b[39mastype(\u001b[38;5;28mstr\u001b[39m)\u001b[38;5;241m.\u001b[39munique()\u001b[38;5;241m.\u001b[39mtolist()\n\u001b[0;32m      5\u001b[0m embeddings \u001b[38;5;241m=\u001b[39m Embeddings({\u001b[38;5;124m\"\u001b[39m\u001b[38;5;124mpath\u001b[39m\u001b[38;5;124m\"\u001b[39m: \u001b[38;5;124m\"\u001b[39m\u001b[38;5;124msentence-transformers/all-MiniLM-L6-v2\u001b[39m\u001b[38;5;124m\"\u001b[39m})\n\u001b[0;32m      6\u001b[0m embeddings\u001b[38;5;241m.\u001b[39mindex(types)\n",
      "\u001b[1;31mNameError\u001b[0m: name 'df' is not defined"
     ]
    }
   ],
   "source": [
    "from txtai.embeddings import Embeddings\n",
    "\n",
    "types = df[\"type\"].dropna().astype(str).unique().tolist()\n",
    "\n",
    "embeddings = Embeddings({\"path\": \"sentence-transformers/all-MiniLM-L6-v2\"})\n",
    "embeddings.index(types)\n",
    "\n",
    "def recommendation(typewise):\n",
    "    result = embeddings.search(typewise, 1)\n",
    "    if not result:\n",
    "            return \"No matching category found.\"\n",
    "\n",
    "    destinationmatch = types[result[0][0]]\n",
    "    \n",
    "    destypes = df[df['type'].str.lower() == destinationmatch.lower()]\n",
    "    return destypes[['destination']]\n",
    "\n",
    "destinationinput = input(\"Enter type of destination: \")\n",
    "print(recommendation(destinationinput))"
   ]
  },
  {
   "cell_type": "code",
   "execution_count": null,
   "id": "4c187472-50fa-4a75-965d-661752e1fb4f",
   "metadata": {},
   "outputs": [],
   "source": [
    "from txtai.embeddings import Embeddings\n",
    "from rapidfuzz import process\n",
    "\n",
    "dest= df2[\"destination\"].dropna().astype(str).unique().tolist()\n",
    "\n",
    "embeddings= Embeddings({\"path\": \"sentence-transformers/all-MiniLM-L6-v2\"})\n",
    "embeddings.index(dest)\n",
    "\n",
    "def recommend(citywise):\n",
    "    result = embeddings.search(citywise, 1)\n",
    "    if not result:\n",
    "        match, score, _ = process.extractOne(citywise, dest)\n",
    "        if score > 80:\n",
    "            city = match\n",
    "        else:\n",
    "            return \"No matching category found.\"\n",
    "\n",
    "    city = dest[result[0][0]]\n",
    "    print(f\"\\nAttractions in '{city}'\")\n",
    "  \n",
    "    places = df2[df2['destination'].str.lower()==city.lower()]\n",
    "    return places[['attraction', 'entry_fee', 'time_required', 'best_time_to_visit']]\n",
    "\n",
    "cityinput=input(\"What place would you like to visit?\")\n",
    "\n",
    "print(recommend(cityinput))"
   ]
  }
 ],
 "metadata": {
  "kernelspec": {
   "display_name": "Python [conda env:base] *",
   "language": "python",
   "name": "conda-base-py"
  },
  "language_info": {
   "codemirror_mode": {
    "name": "ipython",
    "version": 3
   },
   "file_extension": ".py",
   "mimetype": "text/x-python",
   "name": "python",
   "nbconvert_exporter": "python",
   "pygments_lexer": "ipython3",
   "version": "3.12.7"
  }
 },
 "nbformat": 4,
 "nbformat_minor": 5
}
